{
 "cells": [
  {
   "cell_type": "code",
   "execution_count": 1,
   "metadata": {},
   "outputs": [],
   "source": [
    "import mtcnn\n",
    "from PIL import Image\n",
    "import numpy as np"
   ]
  },
  {
   "cell_type": "code",
   "execution_count": 2,
   "metadata": {},
   "outputs": [
    {
     "data": {
      "text/plain": [
       "'f:\\\\NLP-Proj\\\\Notebooks'"
      ]
     },
     "execution_count": 2,
     "metadata": {},
     "output_type": "execute_result"
    }
   ],
   "source": [
    "import os\n",
    "os.getcwd()"
   ]
  },
  {
   "cell_type": "code",
   "execution_count": 5,
   "metadata": {},
   "outputs": [],
   "source": [
    "import matplotlib.pyplot as pyplot\n",
    "#pixels = pyplot.imread(\"../Datasets/constraint22_dataset_uspolitics/images/memes_14.png\")\n",
    "im = Image.open(\"../Dataset/politics/images/memes_18.png\")\n",
    "\n",
    "im.show()"
   ]
  },
  {
   "cell_type": "code",
   "execution_count": 8,
   "metadata": {},
   "outputs": [
    {
     "name": "stdout",
     "output_type": "stream",
     "text": [
      "<class 'numpy.ndarray'>\n"
     ]
    }
   ],
   "source": [
    "import cv2\n",
    "im = cv2.imread('../Dataset/politics/images/memes_18.png')\n",
    "print(type(im))\n",
    "cv2.imshow('image', im)\n",
    "cv2.waitKey(0)       \n",
    " \n",
    "# Destroying present windows on screen\n",
    "cv2.destroyAllWindows()"
   ]
  },
  {
   "cell_type": "code",
   "execution_count": 13,
   "metadata": {},
   "outputs": [],
   "source": [
    "def extract_face(filename, required_size=(224, 224)):\n",
    "    # load image from file\n",
    "    #pixels = pyplot.imread(filename)[:,:,:3]\n",
    "    pixels = cv2.imread(filename)\n",
    "    print(pixels.shape)\n",
    "    # create the detector, using default weights\n",
    "    detector = mtcnn.MTCNN()\n",
    "    # detect faces in the image\n",
    "    results = detector.detect_faces(pixels)\n",
    "    \n",
    "    for _result in results:\n",
    "        # extract the bounding box from the first face\n",
    "        x1, y1, width, height = _result['box']\n",
    "        x2, y2 = x1 + width, y1 + height\n",
    "        # extract the face\n",
    "        face = pixels[y1:y2, x1:x2]\n",
    "        # resize pixels to the model size\n",
    "        image = Image.fromarray(face)\n",
    "        image = image.resize(required_size)\n",
    "        face_array = np.asarray(image)\n",
    "        cv2.imshow('image', face_array)\n",
    "        cv2.waitKey(0)   \n",
    "\n",
    "    cv2.destroyAllWindows()\n",
    "        #return face_array"
   ]
  },
  {
   "cell_type": "code",
   "execution_count": 14,
   "metadata": {},
   "outputs": [
    {
     "name": "stdout",
     "output_type": "stream",
     "text": [
      "(592, 574, 3)\n"
     ]
    }
   ],
   "source": [
    "pixels = extract_face('../Dataset/politics/images/memes_75.png')\n",
    "# plot the extracted face\n",
    "#pyplot.imshow(pixels)\n",
    "# show the plot\n",
    "#pyplot.show()"
   ]
  },
  {
   "cell_type": "code",
   "execution_count": 57,
   "metadata": {},
   "outputs": [
    {
     "name": "stdout",
     "output_type": "stream",
     "text": [
      "b' Chris_Squire': 58.604%\n",
      "b' Irmelin_Indenbirken': 2.067%\n",
      "b' Les_Dennis': 1.621%\n",
      "b' Mark_Emmert': 1.410%\n",
      "b' Gary_Roughead': 1.359%\n"
     ]
    }
   ],
   "source": [
    "from keras_vggface.vggface import VGGFace\n",
    "from keras_vggface.utils import preprocess_input\n",
    "from keras_vggface.utils import decode_predictions\n",
    "\n",
    "pixels = pixels.astype('float32')\n",
    "samples = np.expand_dims(pixels, axis=0)\n",
    "# prepare the face for the model, e.g. center pixels\n",
    "samples = preprocess_input(samples, version=2)\n",
    "# create a vggface model\n",
    "model = VGGFace(model='resnet50')\n",
    "# perform prediction\n",
    "yhat = model.predict(samples)\n",
    "# convert prediction into names\n",
    "results = decode_predictions(yhat)\n",
    "# display most likely results\n",
    "for result in results[0]:\n",
    "\tprint('%s: %.3f%%' % (result[0], result[1]*100))"
   ]
  }
 ],
 "metadata": {
  "interpreter": {
   "hash": "4acc225001176077a8a1735d122cbe2fb45fed800cabdffd74fb7100b749600c"
  },
  "kernelspec": {
   "display_name": "Python 3.9.7 ('py39')",
   "language": "python",
   "name": "python3"
  },
  "language_info": {
   "codemirror_mode": {
    "name": "ipython",
    "version": 3
   },
   "file_extension": ".py",
   "mimetype": "text/x-python",
   "name": "python",
   "nbconvert_exporter": "python",
   "pygments_lexer": "ipython3",
   "version": "3.9.12"
  },
  "orig_nbformat": 4
 },
 "nbformat": 4,
 "nbformat_minor": 2
}
