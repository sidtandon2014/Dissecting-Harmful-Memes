{
 "cells": [
  {
   "cell_type": "code",
   "execution_count": 2,
   "metadata": {},
   "outputs": [],
   "source": [
    "import pandas as pd\n",
    "import os"
   ]
  },
  {
   "cell_type": "code",
   "execution_count": 6,
   "metadata": {},
   "outputs": [],
   "source": [
    "covid_path = \"Dataset/covid/annotations\"\n",
    "politics_path = \"Dataset/politics/annotations\"\n",
    "\n",
    "covid_anno = pd.read_json(f\"../{covid_path}/train.jsonl\", lines = True).reset_index(drop=True)\n",
    "politics_anno = pd.read_json(f\"../{politics_path}/train.jsonl\", lines = True).reset_index(drop=True)\n",
    "\n",
    "covid_entities = covid_anno.apply(lambda x: x.hero + x.villain + x.victim + x.other, axis=1)\n",
    "politics_entities = politics_anno.apply(lambda x: x.hero + x.villain + x.victim + x.other, axis=1)"
   ]
  },
  {
   "cell_type": "code",
   "execution_count": 7,
   "metadata": {},
   "outputs": [],
   "source": [
    "entity_dict = {}\n",
    "def count_entity(x):\n",
    "    if x is not None and len(x) > 0:\n",
    "        for item in x:\n",
    "            key = item.lower()\n",
    "            if key in entity_dict:\n",
    "                entity_dict[key] = entity_dict[key] + 1\n",
    "            else:\n",
    "                entity_dict[key] = 1\n",
    "\n",
    "_=covid_entities.apply(lambda x: count_entity(x))\n",
    "_=politics_entities.apply(lambda x: count_entity(x))"
   ]
  },
  {
   "cell_type": "markdown",
   "metadata": {},
   "source": [
    "#### Consider entities that are present more than 5 times"
   ]
  },
  {
   "cell_type": "code",
   "execution_count": 6,
   "metadata": {},
   "outputs": [],
   "source": [
    "filtered_entities = {}\n",
    "for key, value in entity_dict.items():\n",
    "    if value >= 5:\n",
    "        filtered_entities[key] = value"
   ]
  },
  {
   "cell_type": "code",
   "execution_count": 12,
   "metadata": {},
   "outputs": [],
   "source": [
    "covid_anno"
   ]
  },
  {
   "cell_type": "code",
   "execution_count": 19,
   "metadata": {},
   "outputs": [],
   "source": [
    "# Iterate annotations and modify the dataset\n",
    "def modify_annotations(data):\n",
    "    def update_entites(sample_entities):\n",
    "        _updated_entities = []\n",
    "        for _item in sample_entities:\n",
    "            key = _item.lower()\n",
    "            if key in filtered_entities:\n",
    "                _updated_entities.append(key)\n",
    "            else:\n",
    "                _updated_entities.append(\"background\")\n",
    "        return _updated_entities\n",
    "\n",
    "    data.hero = data.hero.apply(lambda x: update_entites(x))\n",
    "    data.villain = data.villain.apply(lambda x: update_entites(x))\n",
    "    data.victim = data.victim.apply(lambda x: update_entites(x))\n",
    "    data.other = data.other.apply(lambda x: update_entites(x))\n",
    "\n",
    "    return data\n",
    "\n",
    "covid_ds = modify_annotations(covid_anno.copy())\n",
    "politics_ds = modify_annotations(politics_anno.copy())"
   ]
  },
  {
   "cell_type": "code",
   "execution_count": 21,
   "metadata": {},
   "outputs": [],
   "source": [
    "complete_ds = pd.concat([covid_ds, politics_ds], axis = 0,ignore_index=True)"
   ]
  },
  {
   "cell_type": "code",
   "execution_count": 22,
   "metadata": {},
   "outputs": [
    {
     "data": {
      "text/plain": [
       "(5552, 6)"
      ]
     },
     "execution_count": 22,
     "metadata": {},
     "output_type": "execute_result"
    }
   ],
   "source": [
    "complete_ds.shape"
   ]
  },
  {
   "cell_type": "code",
   "execution_count": 23,
   "metadata": {},
   "outputs": [
    {
     "name": "stderr",
     "output_type": "stream",
     "text": [
      "Downloading: 100%|██████████| 631/631 [00:00<00:00, 214kB/s]\n",
      "Downloading: 100%|██████████| 428M/428M [04:31<00:00, 1.65MB/s]    \n",
      "Some weights of the model checkpoint at uclanlp/visualbert-vqa-coco-pre were not used when initializing VisualBertModel: ['cls.seq_relationship.bias', 'cls.predictions.bias', 'cls.predictions.transform.dense.bias', 'cls.predictions.decoder.weight', 'cls.predictions.transform.LayerNorm.weight', 'cls.predictions.transform.LayerNorm.bias', 'cls.predictions.transform.dense.weight', 'cls.predictions.decoder.bias', 'cls.seq_relationship.weight']\n",
      "- This IS expected if you are initializing VisualBertModel from the checkpoint of a model trained on another task or with another architecture (e.g. initializing a BertForSequenceClassification model from a BertForPreTraining model).\n",
      "- This IS NOT expected if you are initializing VisualBertModel from the checkpoint of a model that you expect to be exactly identical (initializing a BertForSequenceClassification model from a BertForSequenceClassification model).\n",
      "Downloading: 100%|██████████| 226k/226k [00:00<00:00, 244kB/s] \n",
      "Downloading: 100%|██████████| 28.0/28.0 [00:00<00:00, 9.33kB/s]\n",
      "Downloading: 100%|██████████| 570/570 [00:00<00:00, 142kB/s]\n"
     ]
    },
    {
     "ename": "NameError",
     "evalue": "name 'get_visual_embeddings' is not defined",
     "output_type": "error",
     "traceback": [
      "\u001b[1;31m---------------------------------------------------------------------------\u001b[0m",
      "\u001b[1;31mNameError\u001b[0m                                 Traceback (most recent call last)",
      "\u001b[1;32m~\\AppData\\Local\\Temp/ipykernel_16540/1322930294.py\u001b[0m in \u001b[0;36m<module>\u001b[1;34m\u001b[0m\n\u001b[0;32m      7\u001b[0m \u001b[0minputs\u001b[0m \u001b[1;33m=\u001b[0m \u001b[0mtokenizer\u001b[0m\u001b[1;33m(\u001b[0m\u001b[1;34m\"What is the man eating?\"\u001b[0m\u001b[1;33m,\u001b[0m \u001b[0mreturn_tensors\u001b[0m\u001b[1;33m=\u001b[0m\u001b[1;34m\"pt\"\u001b[0m\u001b[1;33m)\u001b[0m\u001b[1;33m\u001b[0m\u001b[1;33m\u001b[0m\u001b[0m\n\u001b[0;32m      8\u001b[0m \u001b[1;31m# this is a custom function that returns the visual embeddings given the image path\u001b[0m\u001b[1;33m\u001b[0m\u001b[1;33m\u001b[0m\u001b[0m\n\u001b[1;32m----> 9\u001b[1;33m \u001b[0mvisual_embeds\u001b[0m \u001b[1;33m=\u001b[0m \u001b[0mget_visual_embeddings\u001b[0m\u001b[1;33m(\u001b[0m\u001b[0mimage_path\u001b[0m\u001b[1;33m)\u001b[0m\u001b[1;33m\u001b[0m\u001b[1;33m\u001b[0m\u001b[0m\n\u001b[0m\u001b[0;32m     10\u001b[0m \u001b[1;33m\u001b[0m\u001b[0m\n\u001b[0;32m     11\u001b[0m \u001b[0mvisual_token_type_ids\u001b[0m \u001b[1;33m=\u001b[0m \u001b[0mtorch\u001b[0m\u001b[1;33m.\u001b[0m\u001b[0mones\u001b[0m\u001b[1;33m(\u001b[0m\u001b[0mvisual_embeds\u001b[0m\u001b[1;33m.\u001b[0m\u001b[0mshape\u001b[0m\u001b[1;33m[\u001b[0m\u001b[1;33m:\u001b[0m\u001b[1;33m-\u001b[0m\u001b[1;36m1\u001b[0m\u001b[1;33m]\u001b[0m\u001b[1;33m,\u001b[0m \u001b[0mdtype\u001b[0m\u001b[1;33m=\u001b[0m\u001b[0mtorch\u001b[0m\u001b[1;33m.\u001b[0m\u001b[0mlong\u001b[0m\u001b[1;33m)\u001b[0m\u001b[1;33m\u001b[0m\u001b[1;33m\u001b[0m\u001b[0m\n",
      "\u001b[1;31mNameError\u001b[0m: name 'get_visual_embeddings' is not defined"
     ]
    }
   ],
   "source": [
    "import torch\n",
    "from transformers import BertTokenizer, VisualBertModel\n",
    "\n",
    "model = VisualBertModel.from_pretrained(\"uclanlp/visualbert-vqa-coco-pre\")\n",
    "tokenizer = BertTokenizer.from_pretrained(\"bert-base-uncased\")\n",
    "\n",
    "inputs = tokenizer(\"What is the man eating?\", return_tensors=\"pt\")\n",
    "# this is a custom function that returns the visual embeddings given the image path\n",
    "visual_embeds = get_visual_embeddings(image_path)\n",
    "\n",
    "visual_token_type_ids = torch.ones(visual_embeds.shape[:-1], dtype=torch.long)\n",
    "visual_attention_mask = torch.ones(visual_embeds.shape[:-1], dtype=torch.float)\n",
    "inputs.update(\n",
    "    {\n",
    "        \"visual_embeds\": visual_embeds,\n",
    "        \"visual_token_type_ids\": visual_token_type_ids,\n",
    "        \"visual_attention_mask\": visual_attention_mask,\n",
    "    }\n",
    ")\n",
    "outputs = model(**inputs)\n",
    "last_hidden_state = outputs.last_hidden_state"
   ]
  }
 ],
 "metadata": {
  "interpreter": {
   "hash": "57baa5815c940fdaff4d14510622de9616cae602444507ba5d0b6727c008cbd6"
  },
  "kernelspec": {
   "display_name": "Python 3.7.8 64-bit",
   "language": "python",
   "name": "python3"
  },
  "language_info": {
   "codemirror_mode": {
    "name": "ipython",
    "version": 3
   },
   "file_extension": ".py",
   "mimetype": "text/x-python",
   "name": "python",
   "nbconvert_exporter": "python",
   "pygments_lexer": "ipython3",
   "version": "3.9.12"
  },
  "orig_nbformat": 4
 },
 "nbformat": 4,
 "nbformat_minor": 2
}
