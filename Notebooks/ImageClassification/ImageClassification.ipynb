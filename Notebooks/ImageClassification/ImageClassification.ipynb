{
 "cells": [
  {
   "cell_type": "markdown",
   "metadata": {},
   "source": [
    "- Code taken from https://pytorch.org/tutorials/beginner/transfer_learning_tutorial.html\n"
   ]
  },
  {
   "cell_type": "code",
   "execution_count": 1,
   "metadata": {},
   "outputs": [
    {
     "name": "stderr",
     "output_type": "stream",
     "text": [
      "C:\\Miniconda\\envs\\nlp\\lib\\site-packages\\tqdm\\auto.py:22: TqdmWarning: IProgress not found. Please update jupyter and ipywidgets. See https://ipywidgets.readthedocs.io/en/stable/user_install.html\n",
      "  from .autonotebook import tqdm as notebook_tqdm\n"
     ]
    },
    {
     "data": {
      "text/plain": [
       "<matplotlib.pyplot._IonContext at 0x1d7cc8f2af0>"
      ]
     },
     "execution_count": 1,
     "metadata": {},
     "output_type": "execute_result"
    }
   ],
   "source": [
    "from __future__ import print_function, division\n",
    "\n",
    "import torch\n",
    "import torch.nn as nn\n",
    "import torch.optim as optim\n",
    "from torch.optim import lr_scheduler\n",
    "import torch.backends.cudnn as cudnn\n",
    "import numpy as np\n",
    "import torchvision\n",
    "from torchvision import datasets, models, transforms\n",
    "from torch.utils.data import Dataset, DataLoader\n",
    "import matplotlib.pyplot as plt\n",
    "import time\n",
    "import os\n",
    "import copy\n",
    "import cv2\n",
    "import pandas as pd\n",
    "\n",
    "cudnn.benchmark = True\n",
    "plt.ion() "
   ]
  },
  {
   "cell_type": "code",
   "execution_count": 2,
   "metadata": {},
   "outputs": [
    {
     "data": {
      "text/plain": [
       "'f:\\\\NLP-Proj\\\\Notebooks'"
      ]
     },
     "execution_count": 2,
     "metadata": {},
     "output_type": "execute_result"
    }
   ],
   "source": [
    "import os\n",
    "os.getcwd()"
   ]
  },
  {
   "cell_type": "code",
   "execution_count": 3,
   "metadata": {},
   "outputs": [],
   "source": [
    "data = pd.read_csv(\"../Dataset/matchedpairs_finalds.csv\")\n",
    "data = data.sample(frac=1).reset_index(drop = True)\n",
    "total_labels = data.OriginalEntity.unique()\n",
    "#np.save(\"../Dataset/img_classification_labels.npy\", total_labels)\n",
    "\n",
    "data.loc[:, \"Labels\"] = data.OriginalEntity.apply(lambda x: np.where(x == total_labels)[0][0])\n",
    "\n",
    "from sklearn.model_selection import train_test_split\n",
    "\n",
    "train, test = train_test_split(data, test_size = 0.2)\n",
    "train.to_csv(\"../Dataset/train.csv\", index = False)\n",
    "test.to_csv(\"../Dataset/val.csv\", index = False)\n"
   ]
  },
  {
   "cell_type": "code",
   "execution_count": 4,
   "metadata": {},
   "outputs": [],
   "source": [
    "class ImageDataset(Dataset):\n",
    "    \"\"\"Face Landmarks dataset.\"\"\"\n",
    "\n",
    "    def __init__(self, data_path,mode,root_dir, transform=None):\n",
    "        \"\"\"\n",
    "        Args:\n",
    "            csv_file (string): Path to the csv file with annotations.\n",
    "            root_dir (string): Directory with all the images.\n",
    "            transform (callable, optional): Optional transform to be applied\n",
    "                on a sample.\n",
    "        \"\"\"\n",
    "        self.entityds = pd.read_csv(data_path)\n",
    "        self.root_dir = root_dir\n",
    "        self.transform = transform\n",
    "        self.mode = mode\n",
    "\n",
    "    def __len__(self):\n",
    "        return len(self.entityds)\n",
    "\n",
    "    def __getitem__(self, idx):\n",
    "        if torch.is_tensor(idx):\n",
    "            idx = idx.tolist()\n",
    "\n",
    "        img_name = os.path.join(self.root_dir, self.entityds.loc[idx, \"Image\"])\n",
    "        image = cv2.imread(img_name)\n",
    "        if self.transform:\n",
    "            image = self.transform(image)\n",
    "        \n",
    "        labels = -1\n",
    "        if self.mode != 'test':\n",
    "            labels = self.entityds.loc[idx, \"Labels\"]\n",
    "        #sample = {'image': image, 'entity': labels}\n",
    "\n",
    "        return image, labels"
   ]
  },
  {
   "cell_type": "code",
   "execution_count": 5,
   "metadata": {},
   "outputs": [],
   "source": [
    "# Data augmentation and normalization for training\n",
    "# Just normalization for validation\n",
    "data_transforms = {\n",
    "    'train': transforms.Compose([\n",
    "        transforms.ToPILImage(),\n",
    "        transforms.Resize((224, 224)),\n",
    "        transforms.RandomHorizontalFlip(),\n",
    "        transforms.ToTensor(),\n",
    "        transforms.Normalize([0.4372, 0.4457, 0.4807],[0.3319, 0.3318, 0.3384])\n",
    "    ]),\n",
    "    'val': transforms.Compose([\n",
    "        transforms.ToPILImage(),\n",
    "        transforms.Resize((256, 256)),\n",
    "        transforms.CenterCrop((224,224)),\n",
    "        transforms.ToTensor(),\n",
    "        transforms.Normalize([0.4372, 0.4457, 0.4807],[0.3319, 0.3318, 0.3384])\n",
    "    ]),\n",
    "    'test': transforms.Compose([\n",
    "        transforms.ToPILImage(),\n",
    "        transforms.Resize((256, 256)),\n",
    "        transforms.CenterCrop((224,224)),\n",
    "        transforms.ToTensor(),\n",
    "        transforms.Normalize([0.4372, 0.4457, 0.4807],[0.3319, 0.3318, 0.3384])\n",
    "    ]),\n",
    "}\n",
    "\n",
    "data_dir = '../Dataset/matchedpairs_finalds.csv'\n",
    "image_datasets = {x: ImageDataset(data_path=f\"../Dataset/{x}.csv\",\n",
    "                                    mode=x,\n",
    "                                    root_dir='../Dataset/images/'\n",
    "                                    ,transform= data_transforms[x])\n",
    "                                    for x in ['train', 'val', 'test']}\n",
    "                                    \n",
    "dataloaders = {x: torch.utils.data.DataLoader(image_datasets[x], batch_size=32,\n",
    "                                             shuffle=True, num_workers=0)\n",
    "              for x in ['train', 'val','test']}\n",
    "\n",
    "dataset_sizes = {x: len(image_datasets[x]) for x in ['train', 'val','test']}\n",
    "class_names = total_labels\n",
    "\n",
    "device = torch.device(\"cuda:0\" if torch.cuda.is_available() else \"cpu\")"
   ]
  },
  {
   "cell_type": "code",
   "execution_count": 6,
   "metadata": {},
   "outputs": [
    {
     "name": "stdout",
     "output_type": "stream",
     "text": [
      "torch.Size([3, 224, 224]) {'train': 1027, 'val': 257, 'test': 2}\n"
     ]
    },
    {
     "data": {
      "text/plain": [
       "'\\ntotal_samples = len(image_datasets[\"train\"])\\nmean = 0\\nvar = 0\\nfor i in range(total_samples):\\n    sample = image_datasets[\"train\"][i]\\n    mean += torch.mean(sample[\"image\"], dim = [1,2])\\nmean = mean / total_samples\\nprint(mean)\\n\\nfor i in range(total_samples):\\n    image = image_datasets[\"train\"][i][\"image\"]\\n    image = image.view(image.size(0),-1)\\n    var += ((image - mean.unsqueeze(1))**2).sum([1])\\nvar = torch.sqrt(var / (total_samples*224*224))\\nprint(var)\\n'"
      ]
     },
     "execution_count": 6,
     "metadata": {},
     "output_type": "execute_result"
    }
   ],
   "source": [
    "# Get the mean band variance of entire dataset\n",
    "print(image_datasets[\"train\"][0][0].shape,dataset_sizes)\n",
    "'''\n",
    "total_samples = len(image_datasets[\"train\"])\n",
    "mean = 0\n",
    "var = 0\n",
    "for i in range(total_samples):\n",
    "    sample = image_datasets[\"train\"][i]\n",
    "    mean += torch.mean(sample[\"image\"], dim = [1,2])\n",
    "mean = mean / total_samples\n",
    "print(mean)\n",
    "\n",
    "for i in range(total_samples):\n",
    "    image = image_datasets[\"train\"][i][\"image\"]\n",
    "    image = image.view(image.size(0),-1)\n",
    "    var += ((image - mean.unsqueeze(1))**2).sum([1])\n",
    "var = torch.sqrt(var / (total_samples*224*224))\n",
    "print(var)\n",
    "'''"
   ]
  },
  {
   "cell_type": "code",
   "execution_count": 7,
   "metadata": {},
   "outputs": [],
   "source": [
    "def train_model(model, criterion, optimizer, scheduler, num_epochs=25):\n",
    "    since = time.time()\n",
    "\n",
    "    best_model_wts = copy.deepcopy(model.state_dict())\n",
    "    best_acc = 0.0\n",
    "\n",
    "    for epoch in range(num_epochs):\n",
    "        print(f'Epoch {epoch}/{num_epochs - 1}')\n",
    "        print('-' * 10)\n",
    "\n",
    "        # Each epoch has a training and validation phase\n",
    "        for phase in ['train', 'val']:\n",
    "            if phase == 'train':\n",
    "                model.train()  # Set model to training mode\n",
    "            else:\n",
    "                model.eval()   # Set model to evaluate mode\n",
    "\n",
    "            running_loss = 0.0\n",
    "            running_corrects = 0\n",
    "\n",
    "            # Iterate over data.\n",
    "            for inputs, labels in dataloaders[phase]:\n",
    "                inputs = inputs.to(device)\n",
    "                labels = labels.to(device)\n",
    "\n",
    "                # zero the parameter gradients\n",
    "                optimizer.zero_grad()\n",
    "\n",
    "                # forward\n",
    "                # track history if only in train\n",
    "                with torch.set_grad_enabled(phase == 'train'):\n",
    "                    outputs = model(inputs)\n",
    "                    _, preds = torch.max(outputs, 1)\n",
    "                    loss = criterion(outputs, labels)\n",
    "\n",
    "                    # backward + optimize only if in training phase\n",
    "                    if phase == 'train':\n",
    "                        loss.backward()\n",
    "                        optimizer.step()\n",
    "\n",
    "                # statistics\n",
    "                running_loss += loss.item() * inputs.size(0)\n",
    "                running_corrects += torch.sum(preds == labels.data)\n",
    "            if phase == 'train':\n",
    "                scheduler.step()\n",
    "\n",
    "            epoch_loss = running_loss / dataset_sizes[phase]\n",
    "            epoch_acc = running_corrects.double() / dataset_sizes[phase]\n",
    "\n",
    "            print(f'{phase} Loss: {epoch_loss:.4f} Acc: {epoch_acc:.4f}')\n",
    "\n",
    "            # deep copy the model\n",
    "            if phase == 'val' and epoch_acc > best_acc:\n",
    "                best_acc = epoch_acc\n",
    "                best_model_wts = copy.deepcopy(model.state_dict())\n",
    "                torch.save({\n",
    "                            'epoch': epoch,\n",
    "                            'model_state_dict': best_model_wts,\n",
    "                            'class_names': class_names,\n",
    "                            'loss': loss,\n",
    "                            }, \"../Models/img_class.pt\")\n",
    "\n",
    "        print()\n",
    "\n",
    "    time_elapsed = time.time() - since\n",
    "    print(f'Training complete in {time_elapsed // 60:.0f}m {time_elapsed % 60:.0f}s')\n",
    "    print(f'Best val Acc: {best_acc:4f}')\n",
    "\n",
    "    # load best model weights\n",
    "    model.load_state_dict(best_model_wts)\n",
    "    return model"
   ]
  },
  {
   "cell_type": "code",
   "execution_count": 8,
   "metadata": {},
   "outputs": [],
   "source": [
    "def imshow(inp, title=None):\n",
    "    \"\"\"Imshow for Tensor.\"\"\"\n",
    "    inp = inp.numpy().transpose((1, 2, 0))\n",
    "    mean = np.array([0.485, 0.456, 0.406])\n",
    "    std = np.array([0.229, 0.224, 0.225])\n",
    "    inp = std * inp + mean\n",
    "    inp = np.clip(inp, 0, 1)\n",
    "    plt.imshow(inp)\n",
    "    if title is not None:\n",
    "        plt.title(title)\n",
    "    plt.pause(0.001)\n",
    "    \n",
    "def visualize_model(model, mode='val', num_images=6):\n",
    "    was_training = model.training\n",
    "    model.eval()\n",
    "    images_so_far = 0\n",
    "    fig = plt.figure()\n",
    "\n",
    "    with torch.no_grad():\n",
    "        for i, (inputs, labels) in enumerate(dataloaders[mode]):\n",
    "            inputs = inputs.to(device)\n",
    "            labels = labels.to(device)\n",
    "\n",
    "            outputs = model(inputs)\n",
    "            _, preds = torch.max(outputs, 1)\n",
    "\n",
    "            for j in range(inputs.size()[0]):\n",
    "                images_so_far += 1\n",
    "                ax = plt.subplot(num_images//2, 2, images_so_far)\n",
    "                ax.axis('off')\n",
    "                ax.set_title(f'predicted: {class_names[preds[j]]}')\n",
    "                imshow(inputs.cpu().data[j])\n",
    "\n",
    "                if images_so_far == num_images:\n",
    "                    model.train(mode=was_training)\n",
    "                    return\n",
    "        model.train(mode=was_training)"
   ]
  },
  {
   "cell_type": "code",
   "execution_count": 9,
   "metadata": {},
   "outputs": [],
   "source": [
    "model_ft = models.resnet18(pretrained=True)\n",
    "#for param in model_ft.parameters():\n",
    "#    param.requires_grad = False\n",
    "\n",
    "num_ftrs = model_ft.fc.in_features\n",
    "# Here the size of each output sample is set to 2.\n",
    "# Alternatively, it can be generalized to nn.Linear(num_ftrs, len(class_names)).\n",
    "model_ft.fc = nn.Linear(num_ftrs, len(total_labels))\n",
    "\n",
    "model_ft = model_ft.to(device)\n",
    "\n",
    "criterion = nn.CrossEntropyLoss()\n",
    "\n",
    "# Observe that all parameters are being optimized\n",
    "optimizer_ft = optim.SGD(model_ft.parameters(), lr=0.001, momentum=0.9)\n",
    "\n",
    "# Decay LR by a factor of 0.1 every 7 epochs\n",
    "exp_lr_scheduler = lr_scheduler.StepLR(optimizer_ft, step_size=7, gamma=0.1)"
   ]
  },
  {
   "cell_type": "code",
   "execution_count": 10,
   "metadata": {},
   "outputs": [
    {
     "name": "stdout",
     "output_type": "stream",
     "text": [
      "Epoch 0/24\n",
      "----------\n",
      "train Loss: 2.6851 Acc: 0.2639\n",
      "val Loss: 2.2123 Acc: 0.4903\n",
      "\n",
      "Epoch 1/24\n",
      "----------\n",
      "train Loss: 1.3995 Acc: 0.8004\n",
      "val Loss: 1.5443 Acc: 0.7082\n",
      "\n",
      "Epoch 2/24\n",
      "----------\n",
      "train Loss: 0.8522 Acc: 0.8744\n",
      "val Loss: 1.2385 Acc: 0.7198\n",
      "\n",
      "Epoch 3/24\n",
      "----------\n",
      "train Loss: 0.5954 Acc: 0.8909\n",
      "val Loss: 1.0534 Acc: 0.7860\n",
      "\n",
      "Epoch 4/24\n",
      "----------\n",
      "train Loss: 0.4590 Acc: 0.9309\n",
      "val Loss: 0.9697 Acc: 0.7899\n",
      "\n",
      "Epoch 5/24\n",
      "----------\n",
      "train Loss: 0.3683 Acc: 0.9357\n",
      "val Loss: 0.9149 Acc: 0.7977\n",
      "\n",
      "Epoch 6/24\n",
      "----------\n",
      "train Loss: 0.3081 Acc: 0.9591\n",
      "val Loss: 0.8495 Acc: 0.8171\n",
      "\n",
      "Epoch 7/24\n",
      "----------\n",
      "train Loss: 0.2437 Acc: 0.9698\n",
      "val Loss: 0.8412 Acc: 0.8093\n",
      "\n",
      "Epoch 8/24\n",
      "----------\n",
      "train Loss: 0.2370 Acc: 0.9698\n",
      "val Loss: 0.8264 Acc: 0.7899\n",
      "\n",
      "Epoch 9/24\n",
      "----------\n",
      "train Loss: 0.2332 Acc: 0.9737\n",
      "val Loss: 0.8170 Acc: 0.8093\n",
      "\n",
      "Epoch 10/24\n",
      "----------\n",
      "train Loss: 0.2185 Acc: 0.9786\n",
      "val Loss: 0.8396 Acc: 0.7860\n",
      "\n",
      "Epoch 11/24\n",
      "----------\n",
      "train Loss: 0.2159 Acc: 0.9747\n",
      "val Loss: 0.8344 Acc: 0.7860\n",
      "\n",
      "Epoch 12/24\n",
      "----------\n",
      "train Loss: 0.2210 Acc: 0.9737\n",
      "val Loss: 0.8211 Acc: 0.7821\n",
      "\n",
      "Epoch 13/24\n",
      "----------\n",
      "train Loss: 0.2138 Acc: 0.9757\n",
      "val Loss: 0.8105 Acc: 0.8093\n",
      "\n",
      "Epoch 14/24\n",
      "----------\n",
      "train Loss: 0.2108 Acc: 0.9776\n",
      "val Loss: 0.8073 Acc: 0.7938\n",
      "\n",
      "Epoch 15/24\n",
      "----------\n",
      "train Loss: 0.2071 Acc: 0.9747\n",
      "val Loss: 0.8069 Acc: 0.8093\n",
      "\n",
      "Epoch 16/24\n",
      "----------\n",
      "train Loss: 0.2075 Acc: 0.9766\n",
      "val Loss: 0.8144 Acc: 0.7938\n",
      "\n",
      "Epoch 17/24\n",
      "----------\n",
      "train Loss: 0.2032 Acc: 0.9796\n",
      "val Loss: 0.8229 Acc: 0.7938\n",
      "\n",
      "Epoch 18/24\n",
      "----------\n",
      "train Loss: 0.2060 Acc: 0.9776\n",
      "val Loss: 0.8109 Acc: 0.8132\n",
      "\n",
      "Epoch 19/24\n",
      "----------\n",
      "train Loss: 0.2008 Acc: 0.9786\n",
      "val Loss: 0.8141 Acc: 0.7860\n",
      "\n",
      "Epoch 20/24\n",
      "----------\n",
      "train Loss: 0.2039 Acc: 0.9776\n",
      "val Loss: 0.8205 Acc: 0.8016\n",
      "\n",
      "Epoch 21/24\n",
      "----------\n",
      "train Loss: 0.2018 Acc: 0.9815\n",
      "val Loss: 0.8202 Acc: 0.8093\n",
      "\n",
      "Epoch 22/24\n",
      "----------\n",
      "train Loss: 0.1993 Acc: 0.9815\n",
      "val Loss: 0.8148 Acc: 0.8093\n",
      "\n",
      "Epoch 23/24\n",
      "----------\n",
      "train Loss: 0.2058 Acc: 0.9757\n",
      "val Loss: 0.8088 Acc: 0.7938\n",
      "\n",
      "Epoch 24/24\n",
      "----------\n",
      "train Loss: 0.2042 Acc: 0.9776\n",
      "val Loss: 0.8276 Acc: 0.7860\n",
      "\n",
      "Training complete in 4m 43s\n",
      "Best val Acc: 0.817121\n"
     ]
    }
   ],
   "source": [
    "model_ft = train_model(model_ft, criterion, optimizer_ft, exp_lr_scheduler,\n",
    "                       num_epochs=10)"
   ]
  },
  {
   "cell_type": "code",
   "execution_count": 11,
   "metadata": {},
   "outputs": [
    {
     "data": {
      "image/png": "[encoded data removed]",
      "text/plain": [
       "<Figure size 432x288 with 1 Axes>"
      ]
     },
     "metadata": {
      "needs_background": "light"
     },
     "output_type": "display_data"
    },
    {
     "data": {
      "image/png": "[encoded data removed]",
      "text/plain": [
       "<Figure size 432x288 with 1 Axes>"
      ]
     },
     "metadata": {
      "needs_background": "light"
     },
     "output_type": "display_data"
    },
    {
     "data": {
      "image/png": "[encoded data removed]",
      "text/plain": [
       "<Figure size 432x288 with 1 Axes>"
      ]
     },
     "metadata": {
      "needs_background": "light"
     },
     "output_type": "display_data"
    },
    {
     "data": {
      "image/png": "[encoded data removed]",
      "text/plain": [
       "<Figure size 432x288 with 1 Axes>"
      ]
     },
     "metadata": {
      "needs_background": "light"
     },
     "output_type": "display_data"
    },
    {
     "data": {
      "image/png": "[encoded data removed]",
      "text/plain": [
       "<Figure size 432x288 with 1 Axes>"
      ]
     },
     "metadata": {
      "needs_background": "light"
     },
     "output_type": "display_data"
    },
    {
     "data": {
      "image/png": "[encoded data removed]",
      "text/plain": [
       "<Figure size 432x288 with 1 Axes>"
      ]
     },
     "metadata": {
      "needs_background": "light"
     },
     "output_type": "display_data"
    }
   ],
   "source": [
    "visualize_model(model_ft)"
   ]
  }
 ],
 "metadata": {
  "interpreter": {
   "hash": "f0ed68f3cd7c634aa60b5799db6da941984035af1c935552dfe4b02f4bf966f4"
  },
  "kernelspec": {
   "display_name": "Python 3.8.5 ('py38_default')",
   "language": "python",
   "name": "python3"
  },
  "language_info": {
   "codemirror_mode": {
    "name": "ipython",
    "version": 3
   },
   "file_extension": ".py",
   "mimetype": "text/x-python",
   "name": "python",
   "nbconvert_exporter": "python",
   "pygments_lexer": "ipython3",
   "version": "3.9.12"
  },
  "orig_nbformat": 4
 },
 "nbformat": 4,
 "nbformat_minor": 2
}
