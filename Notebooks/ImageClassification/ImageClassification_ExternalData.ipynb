{
 "cells": [
  {
   "cell_type": "markdown",
   "metadata": {},
   "source": [
    "- Code taken from https://pytorch.org/tutorials/beginner/transfer_learning_tutorial.html\n"
   ]
  },
  {
   "cell_type": "code",
   "execution_count": 20,
   "metadata": {},
   "outputs": [
    {
     "name": "stderr",
     "output_type": "stream",
     "text": [
      "C:\\Miniconda\\envs\\nlp\\lib\\site-packages\\tqdm\\auto.py:22: TqdmWarning: IProgress not found. Please update jupyter and ipywidgets. See https://ipywidgets.readthedocs.io/en/stable/user_install.html\n",
      "  from .autonotebook import tqdm as notebook_tqdm\n"
     ]
    },
    {
     "data": {
      "text/plain": [
       "<matplotlib.pyplot._IonContext at 0x2be530c8460>"
      ]
     },
     "execution_count": 20,
     "metadata": {},
     "output_type": "execute_result"
    }
   ],
   "source": [
    "from __future__ import print_function, division\n",
    "\n",
    "import torch\n",
    "import torch.nn as nn\n",
    "import torch.optim as optim\n",
    "from torch.optim import lr_scheduler\n",
    "import torch.backends.cudnn as cudnn\n",
    "import numpy as np\n",
    "import torchvision\n",
    "from torchvision import datasets, models, transforms\n",
    "from torch.utils.data import Dataset, DataLoader\n",
    "import matplotlib.pyplot as plt\n",
    "import time\n",
    "import os\n",
    "import copy\n",
    "import cv2\n",
    "import pandas as pd\n",
    "\n",
    "cudnn.benchmark = True\n",
    "plt.ion() "
   ]
  },
  {
   "cell_type": "code",
   "execution_count": 54,
   "metadata": {},
   "outputs": [],
   "source": [
    "# Prepare dataset using external images\n",
    "import os\n",
    "import pathlib\n",
    "\n",
    "dataset = []\n",
    "root = \"../../Dataset/extra images\"\n",
    "total_classes = os.listdir(root)\n",
    "for _classidx, _class in enumerate(total_classes):\n",
    "    filenames = os.listdir(f\"{root}/{_class}\")\n",
    "    for idx, _file in enumerate(filenames):\n",
    "        _,ext = os.path.splitext(_file)\n",
    "        if (ext == \".jpg\") or (ext == \".jpeg\") or (ext ==\".png\"):\n",
    "            oldfile = f\"{root}/{_class}/{_file}\"\n",
    "            newfile = f\"{root}/{_class}/img_{idx}{ext}\"\n",
    "            os.rename(oldfile, newfile)\n",
    "            dataset.append((newfile, _class, _classidx))\n"
   ]
  },
  {
   "cell_type": "code",
   "execution_count": 55,
   "metadata": {},
   "outputs": [],
   "source": [
    "data = pd.DataFrame(dataset, columns = [\"ImagePath\",\"LabelName\",\"Labels\"])\n",
    "data = data.sample(frac=1).reset_index(drop = True)\n",
    "\n",
    "total_labels = data[[\"LabelName\",\"Labels\"]].drop_duplicates()\n",
    "\n",
    "from sklearn.model_selection import train_test_split\n",
    "\n",
    "train, test = train_test_split(data, test_size = 0.2)\n",
    "train.to_csv(\"../../Dataset/train.csv\", index = False)\n",
    "test.to_csv(\"../../Dataset/val.csv\", index = False)\n"
   ]
  },
  {
   "cell_type": "code",
   "execution_count": 89,
   "metadata": {},
   "outputs": [
    {
     "data": {
      "text/plain": [
       "vladimir putin      72\n",
       "joe biden           56\n",
       "bill clinton        56\n",
       "donald trump        54\n",
       "narendra modi       51\n",
       "hillary clinton     50\n",
       "robert downey jr    47\n",
       "jill stein          44\n",
       "ted cruz images     43\n",
       "barack obama        41\n",
       "gary johnson        40\n",
       "john f. kennedy     38\n",
       "ku klux klan        37\n",
       "kim jong un         35\n",
       "adolf hitler        32\n",
       "bernie sanders      30\n",
       "abraham lincoln     27\n",
       "george bush         24\n",
       "xi jinping          14\n",
       "mike pence          14\n",
       "kamala harris       14\n",
       "mitch mcconnell     13\n",
       "Name: LabelName, dtype: int64"
      ]
     },
     "execution_count": 89,
     "metadata": {},
     "output_type": "execute_result"
    }
   ],
   "source": [
    "train.LabelName.value_counts()"
   ]
  },
  {
   "cell_type": "code",
   "execution_count": 56,
   "metadata": {},
   "outputs": [],
   "source": [
    "class ImageDataset(Dataset):\n",
    "    \"\"\"Face Landmarks dataset.\"\"\"\n",
    "\n",
    "    def __init__(self, data_path,mode,root_dir, transform=None):\n",
    "        \"\"\"\n",
    "        Args:\n",
    "            csv_file (string): Path to the csv file with annotations.\n",
    "            root_dir (string): Directory with all the images.\n",
    "            transform (callable, optional): Optional transform to be applied\n",
    "                on a sample.\n",
    "        \"\"\"\n",
    "        self.entityds = pd.read_csv(data_path)\n",
    "        self.root_dir = root_dir\n",
    "        self.transform = transform\n",
    "        self.mode = mode\n",
    "\n",
    "    def __len__(self):\n",
    "        return len(self.entityds)\n",
    "\n",
    "    def __getitem__(self, idx):\n",
    "        if torch.is_tensor(idx):\n",
    "            idx = idx.tolist()\n",
    "\n",
    "        img_name = self.entityds.loc[idx, \"ImagePath\"]\n",
    "        image = cv2.imread(img_name)\n",
    "        if self.transform:\n",
    "            try:\n",
    "                image = self.transform(image)\n",
    "            except:\n",
    "                print(img_name)\n",
    "        \n",
    "        labels = -1\n",
    "        if self.mode != 'test':\n",
    "            labels = self.entityds.loc[idx, \"Labels\"]\n",
    "        #sample = {'image': image, 'entity': labels}\n",
    "\n",
    "        return image, labels"
   ]
  },
  {
   "cell_type": "code",
   "execution_count": 59,
   "metadata": {},
   "outputs": [],
   "source": [
    "# Data augmentation and normalization for training\n",
    "# Just normalization for validation\n",
    "data_transforms = {\n",
    "    'train': transforms.Compose([\n",
    "        transforms.ToPILImage(),\n",
    "        transforms.Resize((224, 224)),\n",
    "        transforms.RandomHorizontalFlip(.3),\n",
    "        transforms.GaussianBlur(kernel_size=(5, 9)),\n",
    "        transforms.ToTensor(),\n",
    "        transforms.Normalize([0.3756, 0.3707, 0.4157],[1.8021, 1.7891, 1.9020])\n",
    "        #transforms.Normalize([0.4372, 0.4457, 0.4807],[0.3319, 0.3318, 0.3384])\n",
    "    ]),\n",
    "    'val': transforms.Compose([\n",
    "        transforms.ToPILImage(),\n",
    "        transforms.Resize((256, 256)),\n",
    "        transforms.CenterCrop((224,224)),\n",
    "        transforms.ToTensor(),\n",
    "        transforms.Normalize([0.3756, 0.3707, 0.4157],[1.8021, 1.7891, 1.9020])\n",
    "    ]),\n",
    "    'test': transforms.Compose([\n",
    "        transforms.ToPILImage(),\n",
    "        transforms.Resize((256, 256)),\n",
    "        transforms.CenterCrop((224,224)),\n",
    "        transforms.ToTensor(),\n",
    "        transforms.Normalize([0.4372, 0.4457, 0.4807],[0.3319, 0.3318, 0.3384])\n",
    "    ]),\n",
    "}\n",
    "\n",
    "data_dir = '../Dataset/matchedpairs_finalds.csv'\n",
    "image_datasets = {x: ImageDataset(data_path=f\"../../Dataset/{x}.csv\",\n",
    "                                    mode=x,\n",
    "                                    root_dir='../../Dataset/extra images/'\n",
    "                                    ,transform= data_transforms[x])\n",
    "                                    for x in ['train', 'val', 'test']}\n",
    "                                    \n",
    "dataloaders = {x: torch.utils.data.DataLoader(image_datasets[x], batch_size=32,\n",
    "                                             shuffle=True, num_workers=0)\n",
    "              for x in ['train', 'val','test']}\n",
    "\n",
    "dataset_sizes = {x: len(image_datasets[x]) for x in ['train', 'val','test']}\n",
    "class_names = total_labels\n",
    "\n",
    "device = torch.device(\"cuda:0\" if torch.cuda.is_available() else \"cpu\")"
   ]
  },
  {
   "cell_type": "code",
   "execution_count": 58,
   "metadata": {},
   "outputs": [
    {
     "name": "stdout",
     "output_type": "stream",
     "text": [
      "torch.Size([3, 2119, 2825]) {'train': 832, 'val': 209, 'test': 2}\n",
      "tensor([0.3756, 0.3707, 0.4157])\n",
      "tensor([1.8021, 1.7891, 1.9020])\n"
     ]
    }
   ],
   "source": [
    "# Get the mean band variance of entire dataset\n",
    "print(image_datasets[\"train\"][0][0].shape,dataset_sizes)\n",
    "'''\n",
    "total_samples = len(image_datasets[\"train\"])\n",
    "mean = 0\n",
    "var = 0\n",
    "for i in range(total_samples):\n",
    "    image,_ = image_datasets[\"train\"][i]\n",
    "    mean += torch.mean(image, dim = [1,2])\n",
    "mean = mean / total_samples\n",
    "print(mean)\n",
    "\n",
    "for i in range(total_samples):\n",
    "    image = image_datasets[\"train\"][i][0]\n",
    "    image = image.view(image.size(0),-1)\n",
    "    var += ((image - mean.unsqueeze(1))**2).sum([1])\n",
    "var = torch.sqrt(var / (total_samples*224*224))\n",
    "print(var)\n",
    "'''\n"
   ]
  },
  {
   "cell_type": "code",
   "execution_count": 67,
   "metadata": {},
   "outputs": [],
   "source": [
    "def train_model(model, criterion, optimizer, scheduler, num_epochs=25):\n",
    "    since = time.time()\n",
    "\n",
    "    best_model_wts = copy.deepcopy(model.state_dict())\n",
    "    best_acc = 0.0\n",
    "\n",
    "    for epoch in range(num_epochs):\n",
    "        print(f'Epoch {epoch}/{num_epochs - 1}')\n",
    "        print('-' * 10)\n",
    "\n",
    "        # Each epoch has a training and validation phase\n",
    "        for phase in ['train', 'val']:\n",
    "            if phase == 'train':\n",
    "                model.train()  # Set model to training mode\n",
    "            else:\n",
    "                model.eval()   # Set model to evaluate mode\n",
    "\n",
    "            running_loss = 0.0\n",
    "            running_corrects = 0\n",
    "\n",
    "            # Iterate over data.\n",
    "            for inputs, labels in dataloaders[phase]:\n",
    "                inputs = inputs.to(device)\n",
    "                labels = labels.to(device)\n",
    "\n",
    "                # zero the parameter gradients\n",
    "                optimizer.zero_grad()\n",
    "\n",
    "                # forward\n",
    "                # track history if only in train\n",
    "                with torch.set_grad_enabled(phase == 'train'):\n",
    "                    outputs = model(inputs)\n",
    "                    _, preds = torch.max(outputs, 1)\n",
    "                    loss = criterion(outputs, labels)\n",
    "\n",
    "                    # backward + optimize only if in training phase\n",
    "                    if phase == 'train':\n",
    "                        loss.backward()\n",
    "                        optimizer.step()\n",
    "\n",
    "                # statistics\n",
    "                running_loss += loss.item() * inputs.size(0)\n",
    "                running_corrects += torch.sum(preds == labels.data)\n",
    "            if phase == 'train':\n",
    "                scheduler.step()\n",
    "\n",
    "            epoch_loss = running_loss / dataset_sizes[phase]\n",
    "            epoch_acc = running_corrects.double() / dataset_sizes[phase]\n",
    "\n",
    "            print(f'{phase} Loss: {epoch_loss:.4f} Acc: {epoch_acc:.4f}')\n",
    "\n",
    "            # deep copy the model\n",
    "            if phase == 'val' and epoch_acc > best_acc:\n",
    "                best_acc = epoch_acc\n",
    "                best_model_wts = copy.deepcopy(model.state_dict())\n",
    "                torch.save({\n",
    "                            'epoch': epoch,\n",
    "                            'model_state_dict': best_model_wts,\n",
    "                            'class_names': class_names,\n",
    "                            'loss': loss,\n",
    "                            }, \"../../Models/img_class_ed.pt\")\n",
    "\n",
    "        print()\n",
    "\n",
    "    time_elapsed = time.time() - since\n",
    "    print(f'Training complete in {time_elapsed // 60:.0f}m {time_elapsed % 60:.0f}s')\n",
    "    print(f'Best val Acc: {best_acc:4f}')\n",
    "\n",
    "    # load best model weights\n",
    "    model.load_state_dict(best_model_wts)\n",
    "    return model"
   ]
  },
  {
   "cell_type": "code",
   "execution_count": 85,
   "metadata": {},
   "outputs": [],
   "source": [
    "def imshow(inp, title=None):\n",
    "    \"\"\"Imshow for Tensor.\"\"\"\n",
    "    inp = inp.numpy().transpose((1, 2, 0))\n",
    "    mean = np.array([0.3756, 0.3707, 0.4157])\n",
    "    std = np.array([1.8021, 1.7891, 1.9020])\n",
    "    inp = std * inp + mean\n",
    "    inp = np.clip(inp, 0, 1)\n",
    "    plt.imshow(inp)\n",
    "    if title is not None:\n",
    "        plt.title(title)\n",
    "    plt.pause(0.001)\n",
    "    \n",
    "def visualize_model(model, mode='val', num_images=6):\n",
    "    was_training = model.training\n",
    "    model.eval()\n",
    "    images_so_far = 0\n",
    "    fig = plt.figure()\n",
    "\n",
    "    with torch.no_grad():\n",
    "        for i, (inputs, labels) in enumerate(dataloaders[mode]):\n",
    "            inputs = inputs.to(device)\n",
    "            labels = labels.to(device)\n",
    "\n",
    "            outputs = model(inputs)\n",
    "            _, preds = torch.max(outputs, 1)\n",
    "\n",
    "            for j in range(inputs.size()[0]):\n",
    "                images_so_far += 1\n",
    "                ax = plt.subplot(num_images//2, 2, images_so_far)\n",
    "                ax.axis('off')\n",
    "                ax.set_title(f'predicted: {class_names.loc[class_names.Labels == preds[j].item(), \"LabelName\"].values[0]}')\n",
    "                imshow(inputs.cpu().data[j])\n",
    "\n",
    "                if images_so_far == num_images:\n",
    "                    model.train(mode=was_training)\n",
    "                    return\n",
    "        model.train(mode=was_training)"
   ]
  },
  {
   "cell_type": "code",
   "execution_count": 63,
   "metadata": {},
   "outputs": [],
   "source": [
    "model_ft = models.resnet18(pretrained=True)\n",
    "#for param in model_ft.parameters():\n",
    "#    param.requires_grad = False\n",
    "\n",
    "num_ftrs = model_ft.fc.in_features\n",
    "# Here the size of each output sample is set to 2.\n",
    "# Alternatively, it can be generalized to nn.Linear(num_ftrs, len(class_names)).\n",
    "model_ft.fc = nn.Linear(num_ftrs, len(total_labels))\n",
    "\n",
    "model_ft = model_ft.to(device)\n",
    "\n",
    "criterion = nn.CrossEntropyLoss()\n",
    "\n",
    "# Observe that all parameters are being optimized\n",
    "optimizer_ft = optim.SGD(model_ft.parameters(), lr=0.001, momentum=0.9)\n",
    "\n",
    "# Decay LR by a factor of 0.1 every 7 epochs\n",
    "exp_lr_scheduler = lr_scheduler.StepLR(optimizer_ft, step_size=7, gamma=0.1)"
   ]
  },
  {
   "cell_type": "code",
   "execution_count": 68,
   "metadata": {},
   "outputs": [
    {
     "name": "stdout",
     "output_type": "stream",
     "text": [
      "Epoch 0/9\n",
      "----------\n",
      "train Loss: 2.0107 Acc: 0.5300\n",
      "val Loss: 2.1380 Acc: 0.4211\n",
      "\n",
      "Epoch 1/9\n",
      "----------\n",
      "train Loss: 1.6037 Acc: 0.6394\n",
      "val Loss: 1.8267 Acc: 0.5024\n",
      "\n",
      "Epoch 2/9\n",
      "----------\n",
      "train Loss: 1.2703 Acc: 0.7476\n",
      "val Loss: 1.5882 Acc: 0.5885\n",
      "\n",
      "Epoch 3/9\n",
      "----------\n",
      "train Loss: 1.0222 Acc: 0.8209\n",
      "val Loss: 1.3861 Acc: 0.6746\n",
      "\n",
      "Epoch 4/9\n",
      "----------\n",
      "train Loss: 0.8128 Acc: 0.8678\n",
      "val Loss: 1.2823 Acc: 0.6603\n",
      "\n",
      "Epoch 5/9\n",
      "----------\n",
      "train Loss: 0.6837 Acc: 0.9171\n",
      "val Loss: 1.2581 Acc: 0.6986\n",
      "\n",
      "Epoch 6/9\n",
      "----------\n",
      "train Loss: 0.6684 Acc: 0.9123\n",
      "val Loss: 1.2361 Acc: 0.6938\n",
      "\n",
      "Epoch 7/9\n",
      "----------\n",
      "train Loss: 0.6459 Acc: 0.9207\n",
      "val Loss: 1.2327 Acc: 0.7081\n",
      "\n",
      "Epoch 8/9\n",
      "----------\n",
      "train Loss: 0.6301 Acc: 0.9219\n",
      "val Loss: 1.2180 Acc: 0.7177\n",
      "\n",
      "Epoch 9/9\n",
      "----------\n",
      "train Loss: 0.6214 Acc: 0.9279\n",
      "val Loss: 1.2044 Acc: 0.7033\n",
      "\n",
      "Training complete in 9m 3s\n",
      "Best val Acc: 0.717703\n"
     ]
    }
   ],
   "source": [
    "model_ft = train_model(model_ft, criterion, optimizer_ft, exp_lr_scheduler,\n",
    "                       num_epochs=10)"
   ]
  },
  {
   "cell_type": "code",
   "execution_count": 86,
   "metadata": {},
   "outputs": [
    {
     "data": {
      "image/png": "[encoded data removed]",
      "text/plain": [
       "<Figure size 432x288 with 1 Axes>"
      ]
     },
     "metadata": {
      "needs_background": "light"
     },
     "output_type": "display_data"
    },
    {
     "data": {
      "image/png": "[encoded data removed]",
      "text/plain": [
       "<Figure size 432x288 with 1 Axes>"
      ]
     },
     "metadata": {
      "needs_background": "light"
     },
     "output_type": "display_data"
    },
    {
     "data": {
      "image/png": "[encoded data removed]",
      "text/plain": [
       "<Figure size 432x288 with 1 Axes>"
      ]
     },
     "metadata": {
      "needs_background": "light"
     },
     "output_type": "display_data"
    },
    {
     "data": {
      "image/png": "[encoded data removed]",
      "text/plain": [
       "<Figure size 432x288 with 1 Axes>"
      ]
     },
     "metadata": {
      "needs_background": "light"
     },
     "output_type": "display_data"
    },
    {
     "data": {
      "image/png": "[encoded data removed]",
      "text/plain": [
       "<Figure size 432x288 with 1 Axes>"
      ]
     },
     "metadata": {
      "needs_background": "light"
     },
     "output_type": "display_data"
    },
    {
     "data": {
      "image/png": "[encoded data removed]",
      "text/plain": [
       "<Figure size 432x288 with 1 Axes>"
      ]
     },
     "metadata": {
      "needs_background": "light"
     },
     "output_type": "display_data"
    }
   ],
   "source": [
    "visualize_model(model_ft)"
   ]
  },
  {
   "cell_type": "code",
   "execution_count": 105,
   "metadata": {},
   "outputs": [],
   "source": [
    "model_ft.eval()\n",
    "result = []\n",
    "for inputs, labels in dataloaders[\"val\"]:\n",
    "    inputs = inputs.to(device)\n",
    "    labels = labels.to(device)\n",
    "\n",
    "    outputs = model_ft(inputs)\n",
    "    _, preds = torch.max(outputs, 1)\n",
    "\n",
    "    result+= list(zip(labels.cpu().numpy(),preds.cpu().numpy()))"
   ]
  },
  {
   "cell_type": "code",
   "execution_count": 109,
   "metadata": {},
   "outputs": [
    {
     "name": "stdout",
     "output_type": "stream",
     "text": [
      "              precision    recall  f1-score   support\n",
      "\n",
      "           0       1.00      0.67      0.80         9\n",
      "           1       0.75      1.00      0.86         3\n",
      "           2       0.73      0.79      0.76        14\n",
      "           3       0.80      0.67      0.73         6\n",
      "           4       0.31      0.36      0.33        11\n",
      "           5       0.55      0.65      0.59        17\n",
      "           6       0.80      0.67      0.73        12\n",
      "           7       0.50      0.09      0.15        11\n",
      "           8       0.82      1.00      0.90        14\n",
      "           9       1.00      0.79      0.88        14\n",
      "          10       0.62      0.89      0.73         9\n",
      "          11       0.60      0.75      0.67         8\n",
      "          12       1.00      0.75      0.86         4\n",
      "          13       0.82      0.75      0.78        12\n",
      "          14       0.80      1.00      0.89         8\n",
      "          15       0.00      0.00      0.00         2\n",
      "          16       0.00      0.00      0.00         2\n",
      "          17       1.00      1.00      1.00         9\n",
      "          18       0.60      0.75      0.67        12\n",
      "          19       0.78      0.64      0.70        11\n",
      "          20       0.68      1.00      0.81        17\n",
      "          21       1.00      0.25      0.40         4\n",
      "\n",
      "    accuracy                           0.72       209\n",
      "   macro avg       0.69      0.66      0.65       209\n",
      "weighted avg       0.72      0.72      0.70       209\n",
      "\n"
     ]
    },
    {
     "name": "stderr",
     "output_type": "stream",
     "text": [
      "C:\\Miniconda\\envs\\nlp\\lib\\site-packages\\sklearn\\metrics\\_classification.py:1318: UndefinedMetricWarning: Precision and F-score are ill-defined and being set to 0.0 in labels with no predicted samples. Use `zero_division` parameter to control this behavior.\n",
      "  _warn_prf(average, modifier, msg_start, len(result))\n",
      "C:\\Miniconda\\envs\\nlp\\lib\\site-packages\\sklearn\\metrics\\_classification.py:1318: UndefinedMetricWarning: Precision and F-score are ill-defined and being set to 0.0 in labels with no predicted samples. Use `zero_division` parameter to control this behavior.\n",
      "  _warn_prf(average, modifier, msg_start, len(result))\n",
      "C:\\Miniconda\\envs\\nlp\\lib\\site-packages\\sklearn\\metrics\\_classification.py:1318: UndefinedMetricWarning: Precision and F-score are ill-defined and being set to 0.0 in labels with no predicted samples. Use `zero_division` parameter to control this behavior.\n",
      "  _warn_prf(average, modifier, msg_start, len(result))\n"
     ]
    }
   ],
   "source": [
    "from sklearn.metrics import classification_report\n",
    "x = pd.DataFrame(result, columns = [\"Actual\",\"Pred\"])\n",
    "print(classification_report(x.Actual.values, x.Pred.values))"
   ]
  },
  {
   "cell_type": "code",
   "execution_count": 111,
   "metadata": {},
   "outputs": [
    {
     "data": {
      "text/html": [
       "<div>\n",
       "<style scoped>\n",
       "    .dataframe tbody tr th:only-of-type {\n",
       "        vertical-align: middle;\n",
       "    }\n",
       "\n",
       "    .dataframe tbody tr th {\n",
       "        vertical-align: top;\n",
       "    }\n",
       "\n",
       "    .dataframe thead th {\n",
       "        text-align: right;\n",
       "    }\n",
       "</style>\n",
       "<table border=\"1\" class=\"dataframe\">\n",
       "  <thead>\n",
       "    <tr style=\"text-align: right;\">\n",
       "      <th></th>\n",
       "      <th>LabelName</th>\n",
       "      <th>Labels</th>\n",
       "    </tr>\n",
       "  </thead>\n",
       "  <tbody>\n",
       "    <tr>\n",
       "      <th>55</th>\n",
       "      <td>abraham lincoln</td>\n",
       "      <td>0</td>\n",
       "    </tr>\n",
       "    <tr>\n",
       "      <th>14</th>\n",
       "      <td>adolf hitler</td>\n",
       "      <td>1</td>\n",
       "    </tr>\n",
       "    <tr>\n",
       "      <th>27</th>\n",
       "      <td>barack obama</td>\n",
       "      <td>2</td>\n",
       "    </tr>\n",
       "    <tr>\n",
       "      <th>12</th>\n",
       "      <td>bernie sanders</td>\n",
       "      <td>3</td>\n",
       "    </tr>\n",
       "    <tr>\n",
       "      <th>13</th>\n",
       "      <td>bill clinton</td>\n",
       "      <td>4</td>\n",
       "    </tr>\n",
       "    <tr>\n",
       "      <th>1</th>\n",
       "      <td>donald trump</td>\n",
       "      <td>5</td>\n",
       "    </tr>\n",
       "    <tr>\n",
       "      <th>5</th>\n",
       "      <td>gary johnson</td>\n",
       "      <td>6</td>\n",
       "    </tr>\n",
       "    <tr>\n",
       "      <th>15</th>\n",
       "      <td>george bush</td>\n",
       "      <td>7</td>\n",
       "    </tr>\n",
       "    <tr>\n",
       "      <th>4</th>\n",
       "      <td>hillary clinton</td>\n",
       "      <td>8</td>\n",
       "    </tr>\n",
       "    <tr>\n",
       "      <th>126</th>\n",
       "      <td>jill stein</td>\n",
       "      <td>9</td>\n",
       "    </tr>\n",
       "    <tr>\n",
       "      <th>7</th>\n",
       "      <td>joe biden</td>\n",
       "      <td>10</td>\n",
       "    </tr>\n",
       "    <tr>\n",
       "      <th>0</th>\n",
       "      <td>john f. kennedy</td>\n",
       "      <td>11</td>\n",
       "    </tr>\n",
       "    <tr>\n",
       "      <th>39</th>\n",
       "      <td>kamala harris</td>\n",
       "      <td>12</td>\n",
       "    </tr>\n",
       "    <tr>\n",
       "      <th>10</th>\n",
       "      <td>kim jong un</td>\n",
       "      <td>13</td>\n",
       "    </tr>\n",
       "    <tr>\n",
       "      <th>25</th>\n",
       "      <td>ku klux klan</td>\n",
       "      <td>14</td>\n",
       "    </tr>\n",
       "    <tr>\n",
       "      <th>118</th>\n",
       "      <td>mike pence</td>\n",
       "      <td>15</td>\n",
       "    </tr>\n",
       "    <tr>\n",
       "      <th>2</th>\n",
       "      <td>mitch mcconnell</td>\n",
       "      <td>16</td>\n",
       "    </tr>\n",
       "    <tr>\n",
       "      <th>3</th>\n",
       "      <td>narendra modi</td>\n",
       "      <td>17</td>\n",
       "    </tr>\n",
       "    <tr>\n",
       "      <th>61</th>\n",
       "      <td>robert downey jr</td>\n",
       "      <td>18</td>\n",
       "    </tr>\n",
       "    <tr>\n",
       "      <th>36</th>\n",
       "      <td>ted cruz images</td>\n",
       "      <td>19</td>\n",
       "    </tr>\n",
       "    <tr>\n",
       "      <th>9</th>\n",
       "      <td>vladimir putin</td>\n",
       "      <td>20</td>\n",
       "    </tr>\n",
       "    <tr>\n",
       "      <th>31</th>\n",
       "      <td>xi jinping</td>\n",
       "      <td>21</td>\n",
       "    </tr>\n",
       "  </tbody>\n",
       "</table>\n",
       "</div>"
      ],
      "text/plain": [
       "            LabelName  Labels\n",
       "55    abraham lincoln       0\n",
       "14       adolf hitler       1\n",
       "27       barack obama       2\n",
       "12     bernie sanders       3\n",
       "13       bill clinton       4\n",
       "1        donald trump       5\n",
       "5        gary johnson       6\n",
       "15        george bush       7\n",
       "4     hillary clinton       8\n",
       "126        jill stein       9\n",
       "7           joe biden      10\n",
       "0     john f. kennedy      11\n",
       "39      kamala harris      12\n",
       "10        kim jong un      13\n",
       "25       ku klux klan      14\n",
       "118        mike pence      15\n",
       "2     mitch mcconnell      16\n",
       "3       narendra modi      17\n",
       "61   robert downey jr      18\n",
       "36    ted cruz images      19\n",
       "9      vladimir putin      20\n",
       "31         xi jinping      21"
      ]
     },
     "execution_count": 111,
     "metadata": {},
     "output_type": "execute_result"
    }
   ],
   "source": [
    "class_names.sort_values(\"Labels\")"
   ]
  }
 ],
 "metadata": {
  "interpreter": {
   "hash": "f0ed68f3cd7c634aa60b5799db6da941984035af1c935552dfe4b02f4bf966f4"
  },
  "kernelspec": {
   "display_name": "Python 3.8.5 ('py38_default')",
   "language": "python",
   "name": "python3"
  },
  "language_info": {
   "codemirror_mode": {
    "name": "ipython",
    "version": 3
   },
   "file_extension": ".py",
   "mimetype": "text/x-python",
   "name": "python",
   "nbconvert_exporter": "python",
   "pygments_lexer": "ipython3",
   "version": "3.9.12"
  },
  "orig_nbformat": 4
 },
 "nbformat": 4,
 "nbformat_minor": 2
}
