{
 "cells": [
  {
   "cell_type": "code",
   "execution_count": 1,
   "metadata": {},
   "outputs": [],
   "source": [
    "import pandas as pd"
   ]
  },
  {
   "cell_type": "code",
   "execution_count": 2,
   "metadata": {},
   "outputs": [],
   "source": [
    "train = pd.read_parquet(\"../Dataset/train.parquet\")\n",
    "valid = pd.read_parquet(\"../Dataset/valid.parquet\")"
   ]
  },
  {
   "cell_type": "code",
   "execution_count": 4,
   "metadata": {},
   "outputs": [
    {
     "data": {
      "text/plain": [
       "array(['[BOTH] bernie sanders [SEP] elizabeth warren [EOTH]',\n",
       "       '[BVIL] uk government [EVIL]',\n",
       "       '[BH] thais [EH]  [BOTH] hong kong [EOTH]',\n",
       "       '[BVIL] china [EVIL]   [BOTH] face mask [SEP] made in china [SEP] coronavirus [EOTH]',\n",
       "       '[BOTH] bernie sanders [SEP] kamala harris [SEP] tiktok [EOTH]   [BH] joe biden [EH]',\n",
       "       '[BOTH]  [SEP] victoria secret store [SEP] melania trump [SEP] victoria secrets [EOTH] [BVIL] donald trump [EVIL]',\n",
       "       '[BH] donald trump [EH] [BOTH] halloween [EOTH] [BVIL] barack obama [EVIL]',\n",
       "       '[BVIC] people [SEP] world [EVIC] [BOTH] hantavirus [EOTH]  [BVIL] china [EVIL]',\n",
       "       '[BOTH] china [SEP] plague [SEP] coronavirus [EOTH]',\n",
       "       '[BVIL] wuhan coronavirus [EVIL]  [BVIC] china [EVIC] [BOTH] chinese new year [SEP] coronavirus [SEP] chinese [EOTH]'],\n",
       "      dtype=object)"
      ]
     },
     "execution_count": 4,
     "metadata": {},
     "output_type": "execute_result"
    }
   ],
   "source": [
    "train.Target.values[:10]"
   ]
  },
  {
   "cell_type": "code",
   "execution_count": null,
   "metadata": {},
   "outputs": [],
   "source": []
  },
  {
   "cell_type": "code",
   "execution_count": 24,
   "metadata": {},
   "outputs": [],
   "source": [
    "def get_entity_Set(ds):\n",
    "    entities = set()\n",
    "    if \"entities\" not in ds.columns:\n",
    "        ds[\"entities\"] =  ds.apply(lambda x: list(x.hero) + list(x.villain) + list(x.victim) + list(x.other), axis=1)\n",
    "    for _entity in ds.entities.values:\n",
    "        entities.update(_entity)\n",
    "    return entities\n",
    "\n",
    "train_entities = get_entity_Set(train)\n",
    "valid_entities = get_entity_Set(valid)"
   ]
  },
  {
   "cell_type": "code",
   "execution_count": 26,
   "metadata": {},
   "outputs": [
    {
     "data": {
      "text/plain": [
       "(906, 4395)"
      ]
     },
     "execution_count": 26,
     "metadata": {},
     "output_type": "execute_result"
    }
   ],
   "source": [
    "len(valid_entities), len(train_entities)"
   ]
  },
  {
   "cell_type": "code",
   "execution_count": 28,
   "metadata": {},
   "outputs": [
    {
     "data": {
      "text/plain": [
       "505"
      ]
     },
     "execution_count": 28,
     "metadata": {},
     "output_type": "execute_result"
    }
   ],
   "source": [
    "len(valid_entities.intersection(train_entities))"
   ]
  },
  {
   "cell_type": "code",
   "execution_count": 17,
   "metadata": {},
   "outputs": [],
   "source": [
    "# Rows with only herosa\n",
    "train[\"HasHero\"] = train.hero.apply(lambda x: 1 if x.shape[0] > 0 else 0)\n",
    "train[\"HasVictim\"] = train.victim.apply(lambda x: 1 if x.shape[0] > 0 else 0)\n",
    "train[\"HasVillain\"] = train.villain.apply(lambda x: 1 if x.shape[0] > 0 else 0)\n",
    "train[\"HasOther\"] = train.other.apply(lambda x: 1 if x.shape[0] > 0 else 0)"
   ]
  },
  {
   "cell_type": "code",
   "execution_count": 19,
   "metadata": {},
   "outputs": [
    {
     "data": {
      "text/plain": [
       "(393, 758, 1884, 5055, 5552)"
      ]
     },
     "execution_count": 19,
     "metadata": {},
     "output_type": "execute_result"
    }
   ],
   "source": [
    "train[\"HasHero\"].sum(), train[\"HasVictim\"].sum(), train[\"HasVillain\"].sum(), train[\"HasOther\"].sum(), len(train)"
   ]
  }
 ],
 "metadata": {
  "interpreter": {
   "hash": "cf56965869f9128303720e02ce7fd8290252d113f24b711c0c2cea593c860638"
  },
  "kernelspec": {
   "display_name": "Python 3.9.12 ('nlp')",
   "language": "python",
   "name": "python3"
  },
  "language_info": {
   "codemirror_mode": {
    "name": "ipython",
    "version": 3
   },
   "file_extension": ".py",
   "mimetype": "text/x-python",
   "name": "python",
   "nbconvert_exporter": "python",
   "pygments_lexer": "ipython3",
   "version": "3.9.12"
  },
  "orig_nbformat": 4
 },
 "nbformat": 4,
 "nbformat_minor": 2
}
