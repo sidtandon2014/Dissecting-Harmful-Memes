{
 "cells": [
  {
   "cell_type": "code",
   "execution_count": 1,
   "metadata": {},
   "outputs": [],
   "source": [
    "import pandas as pd"
   ]
  },
  {
   "cell_type": "code",
   "execution_count": 2,
   "metadata": {},
   "outputs": [],
   "source": [
    "train = pd.read_parquet(\"../Dataset/train.parquet\")\n",
    "valid = pd.read_parquet(\"../Dataset/valid.parquet\")"
   ]
  },
  {
   "cell_type": "code",
   "execution_count": 5,
   "metadata": {},
   "outputs": [
    {
     "data": {
      "text/html": [
       "<div>\n",
       "<style scoped>\n",
       "    .dataframe tbody tr th:only-of-type {\n",
       "        vertical-align: middle;\n",
       "    }\n",
       "\n",
       "    .dataframe tbody tr th {\n",
       "        vertical-align: top;\n",
       "    }\n",
       "\n",
       "    .dataframe thead th {\n",
       "        text-align: right;\n",
       "    }\n",
       "</style>\n",
       "<table border=\"1\" class=\"dataframe\">\n",
       "  <thead>\n",
       "    <tr style=\"text-align: right;\">\n",
       "      <th></th>\n",
       "      <th>OCR</th>\n",
       "      <th>image</th>\n",
       "      <th>hero</th>\n",
       "      <th>villain</th>\n",
       "      <th>victim</th>\n",
       "      <th>other</th>\n",
       "      <th>_Hero</th>\n",
       "      <th>_Villain</th>\n",
       "      <th>_Victim</th>\n",
       "      <th>_Other</th>\n",
       "      <th>Target</th>\n",
       "      <th>All_Entities</th>\n",
       "    </tr>\n",
       "  </thead>\n",
       "  <tbody>\n",
       "    <tr>\n",
       "      <th>0</th>\n",
       "      <td>Bernie Elizabeth? Be informed.Compare issues m...</td>\n",
       "      <td>covid_memes_18.png</td>\n",
       "      <td>[]</td>\n",
       "      <td>[]</td>\n",
       "      <td>[]</td>\n",
       "      <td>[bernie sanders, elizabeth warren]</td>\n",
       "      <td></td>\n",
       "      <td></td>\n",
       "      <td></td>\n",
       "      <td>[BOTH] bernie sanders [SEP] elizabeth warren [...</td>\n",
       "      <td>[BOTH] bernie sanders [SEP] elizabeth warren [...</td>\n",
       "      <td>[bernie sanders, elizabeth warren]</td>\n",
       "    </tr>\n",
       "    <tr>\n",
       "      <th>1</th>\n",
       "      <td>Extending Brexit deadline October 31st order e...</td>\n",
       "      <td>covid_memes_19.png</td>\n",
       "      <td>[]</td>\n",
       "      <td>[uk government]</td>\n",
       "      <td>[]</td>\n",
       "      <td>[]</td>\n",
       "      <td></td>\n",
       "      <td>[BVIL] uk government [EVIL]</td>\n",
       "      <td></td>\n",
       "      <td></td>\n",
       "      <td>[BVIL] uk government [EVIL]</td>\n",
       "      <td>[uk government]</td>\n",
       "    </tr>\n",
       "    <tr>\n",
       "      <th>2</th>\n",
       "      <td>kwai gkwa 0964 #nnevvy applause Thais Hong Kon...</td>\n",
       "      <td>covid_memes_252.png</td>\n",
       "      <td>[thais]</td>\n",
       "      <td>[]</td>\n",
       "      <td>[]</td>\n",
       "      <td>[hong kong]</td>\n",
       "      <td>[BH] thais [EH]</td>\n",
       "      <td></td>\n",
       "      <td></td>\n",
       "      <td>[BOTH] hong kong [EOTH]</td>\n",
       "      <td>[BH] thais [EH]  [BOTH] hong kong [EOTH]</td>\n",
       "      <td>[thais, hong kong]</td>\n",
       "    </tr>\n",
       "    <tr>\n",
       "      <th>3</th>\n",
       "      <td>So, I order foce mask protect ogainst fhe Coro...</td>\n",
       "      <td>covid_memes_255.png</td>\n",
       "      <td>[]</td>\n",
       "      <td>[china]</td>\n",
       "      <td>[]</td>\n",
       "      <td>[face mask, made in china, coronavirus]</td>\n",
       "      <td></td>\n",
       "      <td>[BVIL] china [EVIL]</td>\n",
       "      <td></td>\n",
       "      <td>[BOTH] face mask [SEP] made in china [SEP] cor...</td>\n",
       "      <td>[BVIL] china [EVIL]   [BOTH] face mask [SEP] m...</td>\n",
       "      <td>[china, face mask, made in china, coronavirus]</td>\n",
       "    </tr>\n",
       "    <tr>\n",
       "      <th>4</th>\n",
       "      <td>best candidate JA 2020 joe biden Kamala harris...</td>\n",
       "      <td>covid_memes_20.png</td>\n",
       "      <td>[joe biden]</td>\n",
       "      <td>[]</td>\n",
       "      <td>[]</td>\n",
       "      <td>[bernie sanders, kamala harris, tiktok]</td>\n",
       "      <td>[BH] joe biden [EH]</td>\n",
       "      <td></td>\n",
       "      <td></td>\n",
       "      <td>[BOTH] bernie sanders [SEP] kamala harris [SEP...</td>\n",
       "      <td>[BOTH] bernie sanders [SEP] kamala harris [SEP...</td>\n",
       "      <td>[joe biden, bernie sanders, kamala harris, tik...</td>\n",
       "    </tr>\n",
       "  </tbody>\n",
       "</table>\n",
       "</div>"
      ],
      "text/plain": [
       "                                                 OCR                image  \\\n",
       "0  Bernie Elizabeth? Be informed.Compare issues m...   covid_memes_18.png   \n",
       "1  Extending Brexit deadline October 31st order e...   covid_memes_19.png   \n",
       "2  kwai gkwa 0964 #nnevvy applause Thais Hong Kon...  covid_memes_252.png   \n",
       "3  So, I order foce mask protect ogainst fhe Coro...  covid_memes_255.png   \n",
       "4  best candidate JA 2020 joe biden Kamala harris...   covid_memes_20.png   \n",
       "\n",
       "          hero          villain victim  \\\n",
       "0           []               []     []   \n",
       "1           []  [uk government]     []   \n",
       "2      [thais]               []     []   \n",
       "3           []          [china]     []   \n",
       "4  [joe biden]               []     []   \n",
       "\n",
       "                                     other                _Hero  \\\n",
       "0       [bernie sanders, elizabeth warren]                        \n",
       "1                                       []                        \n",
       "2                              [hong kong]      [BH] thais [EH]   \n",
       "3  [face mask, made in china, coronavirus]                        \n",
       "4  [bernie sanders, kamala harris, tiktok]  [BH] joe biden [EH]   \n",
       "\n",
       "                      _Villain _Victim  \\\n",
       "0                                        \n",
       "1  [BVIL] uk government [EVIL]           \n",
       "2                                        \n",
       "3          [BVIL] china [EVIL]           \n",
       "4                                        \n",
       "\n",
       "                                              _Other  \\\n",
       "0  [BOTH] bernie sanders [SEP] elizabeth warren [...   \n",
       "1                                                      \n",
       "2                            [BOTH] hong kong [EOTH]   \n",
       "3  [BOTH] face mask [SEP] made in china [SEP] cor...   \n",
       "4  [BOTH] bernie sanders [SEP] kamala harris [SEP...   \n",
       "\n",
       "                                              Target  \\\n",
       "0  [BOTH] bernie sanders [SEP] elizabeth warren [...   \n",
       "1                        [BVIL] uk government [EVIL]   \n",
       "2           [BH] thais [EH]  [BOTH] hong kong [EOTH]   \n",
       "3  [BVIL] china [EVIL]   [BOTH] face mask [SEP] m...   \n",
       "4  [BOTH] bernie sanders [SEP] kamala harris [SEP...   \n",
       "\n",
       "                                        All_Entities  \n",
       "0                 [bernie sanders, elizabeth warren]  \n",
       "1                                    [uk government]  \n",
       "2                                 [thais, hong kong]  \n",
       "3     [china, face mask, made in china, coronavirus]  \n",
       "4  [joe biden, bernie sanders, kamala harris, tik...  "
      ]
     },
     "execution_count": 5,
     "metadata": {},
     "output_type": "execute_result"
    }
   ],
   "source": [
    "train.head()"
   ]
  },
  {
   "cell_type": "code",
   "execution_count": 4,
   "metadata": {},
   "outputs": [
    {
     "data": {
      "text/plain": [
       "array(['[BOTH] bernie sanders [SEP] elizabeth warren [EOTH]',\n",
       "       '[BVIL] uk government [EVIL]',\n",
       "       '[BH] thais [EH]  [BOTH] hong kong [EOTH]',\n",
       "       '[BVIL] china [EVIL]   [BOTH] face mask [SEP] made in china [SEP] coronavirus [EOTH]',\n",
       "       '[BOTH] bernie sanders [SEP] kamala harris [SEP] tiktok [EOTH]   [BH] joe biden [EH]',\n",
       "       '[BOTH]  [SEP] victoria secret store [SEP] melania trump [SEP] victoria secrets [EOTH] [BVIL] donald trump [EVIL]',\n",
       "       '[BH] donald trump [EH] [BOTH] halloween [EOTH] [BVIL] barack obama [EVIL]',\n",
       "       '[BVIC] people [SEP] world [EVIC] [BOTH] hantavirus [EOTH]  [BVIL] china [EVIL]',\n",
       "       '[BOTH] china [SEP] plague [SEP] coronavirus [EOTH]',\n",
       "       '[BVIL] wuhan coronavirus [EVIL]  [BVIC] china [EVIC] [BOTH] chinese new year [SEP] coronavirus [SEP] chinese [EOTH]'],\n",
       "      dtype=object)"
      ]
     },
     "execution_count": 4,
     "metadata": {},
     "output_type": "execute_result"
    }
   ],
   "source": [
    "train.Target.values[:10]"
   ]
  },
  {
   "cell_type": "code",
   "execution_count": null,
   "metadata": {},
   "outputs": [],
   "source": []
  },
  {
   "cell_type": "code",
   "execution_count": 24,
   "metadata": {},
   "outputs": [],
   "source": [
    "def get_entity_Set(ds):\n",
    "    entities = set()\n",
    "    if \"entities\" not in ds.columns:\n",
    "        ds[\"entities\"] =  ds.apply(lambda x: list(x.hero) + list(x.villain) + list(x.victim) + list(x.other), axis=1)\n",
    "    for _entity in ds.entities.values:\n",
    "        entities.update(_entity)\n",
    "    return entities\n",
    "\n",
    "train_entities = get_entity_Set(train)\n",
    "valid_entities = get_entity_Set(valid)"
   ]
  },
  {
   "cell_type": "code",
   "execution_count": 26,
   "metadata": {},
   "outputs": [
    {
     "data": {
      "text/plain": [
       "(906, 4395)"
      ]
     },
     "execution_count": 26,
     "metadata": {},
     "output_type": "execute_result"
    }
   ],
   "source": [
    "len(valid_entities), len(train_entities)"
   ]
  },
  {
   "cell_type": "code",
   "execution_count": 28,
   "metadata": {},
   "outputs": [
    {
     "data": {
      "text/plain": [
       "505"
      ]
     },
     "execution_count": 28,
     "metadata": {},
     "output_type": "execute_result"
    }
   ],
   "source": [
    "len(valid_entities.intersection(train_entities))"
   ]
  },
  {
   "cell_type": "code",
   "execution_count": 17,
   "metadata": {},
   "outputs": [],
   "source": [
    "# Rows with only herosa\n",
    "train[\"HasHero\"] = train.hero.apply(lambda x: 1 if x.shape[0] > 0 else 0)\n",
    "train[\"HasVictim\"] = train.victim.apply(lambda x: 1 if x.shape[0] > 0 else 0)\n",
    "train[\"HasVillain\"] = train.villain.apply(lambda x: 1 if x.shape[0] > 0 else 0)\n",
    "train[\"HasOther\"] = train.other.apply(lambda x: 1 if x.shape[0] > 0 else 0)"
   ]
  },
  {
   "cell_type": "code",
   "execution_count": 19,
   "metadata": {},
   "outputs": [
    {
     "data": {
      "text/plain": [
       "(393, 758, 1884, 5055, 5552)"
      ]
     },
     "execution_count": 19,
     "metadata": {},
     "output_type": "execute_result"
    }
   ],
   "source": [
    "train[\"HasHero\"].sum(), train[\"HasVictim\"].sum(), train[\"HasVillain\"].sum(), train[\"HasOther\"].sum(), len(train)"
   ]
  }
 ],
 "metadata": {
  "interpreter": {
   "hash": "cf56965869f9128303720e02ce7fd8290252d113f24b711c0c2cea593c860638"
  },
  "kernelspec": {
   "display_name": "Python 3.9.12 ('nlp')",
   "language": "python",
   "name": "python3"
  },
  "language_info": {
   "codemirror_mode": {
    "name": "ipython",
    "version": 3
   },
   "file_extension": ".py",
   "mimetype": "text/x-python",
   "name": "python",
   "nbconvert_exporter": "python",
   "pygments_lexer": "ipython3",
   "version": "3.9.12"
  },
  "orig_nbformat": 4
 },
 "nbformat": 4,
 "nbformat_minor": 2
}
